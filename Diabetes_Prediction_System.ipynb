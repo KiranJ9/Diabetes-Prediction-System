{
  "nbformat": 4,
  "nbformat_minor": 0,
  "metadata": {
    "colab": {
      "name": "Diabetes Prediction System.ipynb",
      "provenance": [],
      "authorship_tag": "ABX9TyP6CP1QLvsgd+SPpEtsT6Xc",
      "include_colab_link": true
    },
    "kernelspec": {
      "name": "python3",
      "display_name": "Python 3"
    },
    "language_info": {
      "name": "python"
    }
  },
  "cells": [
    {
      "cell_type": "markdown",
      "metadata": {
        "id": "view-in-github",
        "colab_type": "text"
      },
      "source": [
        "<a href=\"https://colab.research.google.com/github/KiranJ9/Diabetes-Prediction-System/blob/main/Diabetes_Prediction_System.ipynb\" target=\"_parent\"><img src=\"https://colab.research.google.com/assets/colab-badge.svg\" alt=\"Open In Colab\"/></a>"
      ]
    },
    {
      "cell_type": "markdown",
      "metadata": {
        "id": "FEhCmYsch63X"
      },
      "source": [
        "##Importing the dependencies."
      ]
    },
    {
      "cell_type": "code",
      "metadata": {
        "id": "zx-eOLcYhgsS"
      },
      "source": [
        "import numpy as np\n",
        "import pandas as pd\n"
      ],
      "execution_count": null,
      "outputs": []
    }
  ]
}